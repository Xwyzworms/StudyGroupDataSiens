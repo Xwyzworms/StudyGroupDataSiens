{
  "nbformat": 4,
  "nbformat_minor": 0,
  "metadata": {
    "kernelspec": {
      "display_name": "Python 3",
      "language": "python",
      "name": "python3"
    },
    "language_info": {
      "codemirror_mode": {
        "name": "ipython",
        "version": 3
      },
      "file_extension": ".py",
      "mimetype": "text/x-python",
      "name": "python",
      "nbconvert_exporter": "python",
      "pygments_lexer": "ipython3",
      "version": "3.7.3"
    },
    "colab": {
      "name": "classification.ipynb",
      "provenance": []
    }
  },
  "cells": [
    {
      "cell_type": "code",
      "metadata": {
        "id": "t2YfrET9aLUm",
        "outputId": "e300bace-399d-48cc-c0f7-2a24abeefac6",
        "colab": {
          "base_uri": "https://localhost:8080/",
          "height": 85
        }
      },
      "source": [
        "!pip install scikit-learn"
      ],
      "execution_count": 16,
      "outputs": [
        {
          "output_type": "stream",
          "text": [
            "Requirement already satisfied: scikit-learn in /usr/local/lib/python3.6/dist-packages (0.22.2.post1)\n",
            "Requirement already satisfied: numpy>=1.11.0 in /usr/local/lib/python3.6/dist-packages (from scikit-learn) (1.18.5)\n",
            "Requirement already satisfied: joblib>=0.11 in /usr/local/lib/python3.6/dist-packages (from scikit-learn) (0.16.0)\n",
            "Requirement already satisfied: scipy>=0.17.0 in /usr/local/lib/python3.6/dist-packages (from scikit-learn) (1.4.1)\n"
          ],
          "name": "stdout"
        }
      ]
    },
    {
      "cell_type": "code",
      "metadata": {
        "id": "3SWjNbZ6Z_HE"
      },
      "source": [
        "from sklearn.neighbors import KNeighborsClassifier\n",
        "from sklearn.naive_bayes import GaussianNB\n",
        "from sklearn.linear_model import LogisticRegression\n",
        "from sklearn.svm import SVC\n",
        "from sklearn.tree import DecisionTreeClassifier\n",
        "from sklearn.ensemble import RandomForestClassifier\n",
        "from sklearn.neural_network import MLPClassifier\n",
        "from sklearn.model_selection import train_test_split\n",
        "from sklearn.metrics import classification_report\n",
        "from sklearn.metrics import accuracy_score\n",
        "from sklearn.datasets import load_iris"
      ],
      "execution_count": 17,
      "outputs": []
    },
    {
      "cell_type": "markdown",
      "metadata": {
        "id": "eoy604S9Z_HM"
      },
      "source": [
        "### 2. Mendefinisikan model dari packages yang diimpor.\n",
        "Algoritma klasifikasi machine learning:\n",
        "* k - Nearest Neighbor (k-NN)\n",
        "* Naïve Bayes\n",
        "* Logistic Regression\n",
        "* Support Vector Machines (SVMs)\n",
        "* Decision Trees\n",
        "* Random Forests\n",
        "* Neural Networks\n",
        "* Deep Neural Networks"
      ]
    },
    {
      "cell_type": "code",
      "metadata": {
        "id": "KW83LnrKZ_HN"
      },
      "source": [
        "models = {\n",
        "    \"knn\": KNeighborsClassifier(n_neighbors=1),\n",
        "    \"naive_bayes\": GaussianNB(),\n",
        "    \"logit\": LogisticRegression(solver=\"lbfgs\", multi_class=\"auto\"),\n",
        "    \"svm\": SVC(kernel=\"rbf\", gamma=\"auto\"),\n",
        "    \"decision_tree\": DecisionTreeClassifier(),\n",
        "    \"random_forest\": RandomForestClassifier(n_estimators=100),\n",
        "    \"mlp\": MLPClassifier()\n",
        "}"
      ],
      "execution_count": 18,
      "outputs": []
    },
    {
      "cell_type": "markdown",
      "metadata": {
        "id": "MeoEo0XYZ_HT"
      },
      "source": [
        "### 3. Load Dataset Iris dan membagi menjadi 75% data traning dan 25% data testing."
      ]
    },
    {
      "cell_type": "code",
      "metadata": {
        "id": "vVBAgVnzZ_HU",
        "outputId": "ce6a1822-6779-4cf0-abf7-7d63965a581c",
        "colab": {
          "base_uri": "https://localhost:8080/",
          "height": 34
        }
      },
      "source": [
        "print(\"[INFO] loading data...\")\n",
        "dataset = load_iris()\n",
        "(trainX, testX, trainY, testY) = train_test_split(dataset.data, dataset.target, random_state=3, test_size=0.25)"
      ],
      "execution_count": 19,
      "outputs": [
        {
          "output_type": "stream",
          "text": [
            "[INFO] loading data...\n"
          ],
          "name": "stdout"
        }
      ]
    },
    {
      "cell_type": "markdown",
      "metadata": {
        "id": "Km03tc-sZ_HZ"
      },
      "source": [
        "### 4. Membuat model klasifikasi dan mengevaluasinya.\n",
        "Ganti variabel `ml_model` berdasarkan `models` yang telah didefinisikan diatas sebagai algoritma klasifikasi."
      ]
    },
    {
      "cell_type": "code",
      "metadata": {
        "id": "yKCDKTMgZ_HZ",
        "outputId": "37353a38-af07-460a-e0ae-0a97209b645b",
        "colab": {
          "base_uri": "https://localhost:8080/",
          "height": 85
        }
      },
      "source": [
        "#model\n",
        "ml_model = \"knn\"\n",
        "\n",
        "print(\"[INFO] using '{}' model\".format(ml_model))\n",
        "model = models[ml_model]\n",
        "model.fit(trainX, trainY)"
      ],
      "execution_count": 24,
      "outputs": [
        {
          "output_type": "stream",
          "text": [
            "[INFO] using 'knn' model\n"
          ],
          "name": "stdout"
        },
        {
          "output_type": "execute_result",
          "data": {
            "text/plain": [
              "KNeighborsClassifier(algorithm='auto', leaf_size=30, metric='minkowski',\n",
              "                     metric_params=None, n_jobs=None, n_neighbors=1, p=2,\n",
              "                     weights='uniform')"
            ]
          },
          "metadata": {
            "tags": []
          },
          "execution_count": 24
        }
      ]
    },
    {
      "cell_type": "markdown",
      "metadata": {
        "id": "HF9zmuAMZ_He"
      },
      "source": [
        "### 5. Membuat prediksi dan menampilkan hasil klasifikasi."
      ]
    },
    {
      "cell_type": "code",
      "metadata": {
        "id": "7PAqe-OCZ_Hf",
        "outputId": "c4385a99-ba1b-40d2-dfdf-47c70bdf270e",
        "colab": {
          "base_uri": "https://localhost:8080/",
          "height": 221
        }
      },
      "source": [
        "print(\"[INFO] evaluating KNN Model...\")\n",
        "predictions = model.predict(testX)\n",
        "print(classification_report(testY, predictions, target_names=dataset.target_names))\n",
        "\n",
        "print(\"Test set Accuracy: \", round(accuracy_score(testY,predictions),2))"
      ],
      "execution_count": 25,
      "outputs": [
        {
          "output_type": "stream",
          "text": [
            "[INFO] evaluating KNN Model...\n",
            "              precision    recall  f1-score   support\n",
            "\n",
            "      setosa       1.00      1.00      1.00        15\n",
            "  versicolor       0.92      0.92      0.92        12\n",
            "   virginica       0.91      0.91      0.91        11\n",
            "\n",
            "    accuracy                           0.95        38\n",
            "   macro avg       0.94      0.94      0.94        38\n",
            "weighted avg       0.95      0.95      0.95        38\n",
            "\n",
            "Test set Accuracy:  0.95\n"
          ],
          "name": "stdout"
        }
      ]
    },
    {
      "cell_type": "code",
      "metadata": {
        "id": "IRSzjnKoaaYK",
        "outputId": "3ba721ed-4a74-4089-9438-54f31e1e41d7",
        "colab": {
          "base_uri": "https://localhost:8080/",
          "height": 221
        }
      },
      "source": [
        "print(\"[INFO] evaluating Naive Bayes Model...\")\n",
        "predictions = model.predict(testX)\n",
        "print(classification_report(testY, predictions, target_names=dataset.target_names))\n",
        "\n",
        "print(\"Test set Accuracy: \", round(accuracy_score(testY,predictions),2))"
      ],
      "execution_count": 21,
      "outputs": [
        {
          "output_type": "stream",
          "text": [
            "[INFO] evaluating Naive Bayes Model...\n",
            "              precision    recall  f1-score   support\n",
            "\n",
            "      setosa       1.00      1.00      1.00        15\n",
            "  versicolor       1.00      0.92      0.96        12\n",
            "   virginica       0.92      1.00      0.96        11\n",
            "\n",
            "    accuracy                           0.97        38\n",
            "   macro avg       0.97      0.97      0.97        38\n",
            "weighted avg       0.98      0.97      0.97        38\n",
            "\n",
            "Test set Accuracy:  0.97\n"
          ],
          "name": "stdout"
        }
      ]
    },
    {
      "cell_type": "code",
      "metadata": {
        "id": "rLIBAbC01cpJ"
      },
      "source": [
        ""
      ],
      "execution_count": null,
      "outputs": []
    }
  ]
}